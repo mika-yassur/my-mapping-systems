{
 "cells": [
  {
   "cell_type": "markdown",
   "metadata": {},
   "source": [
    "# 01. Describing and visualizing data"
   ]
  },
  {
   "cell_type": "markdown",
   "metadata": {},
   "source": [
    "## Getting Started\n",
    "\n",
    "- Download MapPLUTO data from [NYC DCP](https://s-media.nyc.gov/agencies/dcp/assets/files/zip/data-tools/bytes/nyc_mappluto_24v1_1_shp.zip). Place the unzipped contents in the `Data` directory at the root of this repository.\n",
    "- Unzip the file and place contents in the `Data` directory at the root of this repo\n",
    "- Make sure you have installed all requisite libraries by running `pip install -r requirements.txt` **_with your virtual environment activated_**. For guidance on setting up or activating your virtual environment, refer to the notes in [00_Getting_started](00_Getting_started.md).\n",
    "\n",
    "## Goals\n",
    "- Download data from NYC DCP's open data portal\n",
    "- Load data from file\n",
    "- Explore spatial and non-spatial elements of the dataset\n",
    "- Visualize spatial and non-spatial elements of the dataset \n"
   ]
  },
  {
   "cell_type": "markdown",
   "metadata": {},
   "source": [
    "The following libraries will allow us to import and explore our data. Note that in some cases we import the entire library and even use a short-hand reference (e.g. `import geopandas as gpd`), while in other cases we only import submodules (e.g. `from lonboard._layer import PolygonLayer`). This is largely a matter of preference, but importing submodules can help reduce memory usage and improve performance, especially when working with large datasets or in an app you've developed."
   ]
  },
  {
   "cell_type": "code",
   "execution_count": 10,
   "metadata": {},
   "outputs": [],
   "source": [
    "# the bare minimum\n",
    "import matplotlib.pyplot as plt  # for plotting\n",
    "import geopandas as gpd  # for geospatial data handling\n",
    "from matplotlib.lines import Line2D\n",
    "\n",
    "# more advanced\n",
    "from lonboard._map import Map\n",
    "from lonboard._layer import PolygonLayer  # for mapping in 3D\n",
    "from lonboard.colormap import (\n",
    "    apply_categorical_cmap,\n",
    "    apply_continuous_cmap,\n",
    ")  # for assigning colors\n",
    "from palettable.colorbrewer.sequential import PuRd_9  # for color palettes\n",
    "from matplotlib.colors import LogNorm  # for logarithmic normalization\n",
    "import pygwalker as pyg  # for creating interactive data visualizations"
   ]
  },
  {
   "cell_type": "markdown",
   "metadata": {},
   "source": [
    "# Load PLUTO data\n"
   ]
  },
  {
   "cell_type": "markdown",
   "metadata": {},
   "source": [
    "MapPLUTO is New York City's tax lot database, which contains detailed information about the city's land parcels, including their size, zoning, and ownership. The dataset is updated quarterly and is a foundational resource for understanding the city's built environment.\n",
    "\n",
    "Here, we create a variable (`pluto`) and use geopandas to read the file into memory. We use a \"relative\" path to reference the file.\n"
   ]
  },
  {
   "cell_type": "code",
   "execution_count": 11,
   "metadata": {},
   "outputs": [],
   "source": [
    "pluto = gpd.read_file(\"../Data/nyc_mappluto_25v1_1_shp/MapPLUTO.shp\")"
   ]
  },
  {
   "cell_type": "markdown",
   "metadata": {},
   "source": [
    "# Basic exploration\n"
   ]
  },
  {
   "cell_type": "markdown",
   "metadata": {},
   "source": [
    "A great way to familiarize yourself with a dataset is to look\n",
    "at the first few rows. Scroll to the right- you'll see an\n",
    "ellipsis (`...`) indicating that there are more columns (there\n",
    "are 95!). The rightmost column is the geometry, which contains the\n",
    "spatial information for each row. That's what we'll use to map\n",
    "later, but all of the other information contains data that can help\n",
    "us gain a deeper understanding of the dataset."
   ]
  },
  {
   "cell_type": "code",
   "execution_count": 9,
   "metadata": {},
   "outputs": [
    {
     "data": {
      "text/html": [
       "<div>\n",
       "<style scoped>\n",
       "    .dataframe tbody tr th:only-of-type {\n",
       "        vertical-align: middle;\n",
       "    }\n",
       "\n",
       "    .dataframe tbody tr th {\n",
       "        vertical-align: top;\n",
       "    }\n",
       "\n",
       "    .dataframe thead th {\n",
       "        text-align: right;\n",
       "    }\n",
       "</style>\n",
       "<table border=\"1\" class=\"dataframe\">\n",
       "  <thead>\n",
       "    <tr style=\"text-align: right;\">\n",
       "      <th></th>\n",
       "      <th>Borough</th>\n",
       "      <th>Block</th>\n",
       "      <th>Lot</th>\n",
       "      <th>CD</th>\n",
       "      <th>BCT2020</th>\n",
       "      <th>BCTCB2020</th>\n",
       "      <th>CT2010</th>\n",
       "      <th>CB2010</th>\n",
       "      <th>SchoolDist</th>\n",
       "      <th>Council</th>\n",
       "      <th>...</th>\n",
       "      <th>FIRM07_FLA</th>\n",
       "      <th>PFIRM15_FL</th>\n",
       "      <th>Version</th>\n",
       "      <th>DCPEdited</th>\n",
       "      <th>Latitude</th>\n",
       "      <th>Longitude</th>\n",
       "      <th>Notes</th>\n",
       "      <th>Shape_Leng</th>\n",
       "      <th>Shape_Area</th>\n",
       "      <th>geometry</th>\n",
       "    </tr>\n",
       "  </thead>\n",
       "  <tbody>\n",
       "    <tr>\n",
       "      <th>0</th>\n",
       "      <td>MN</td>\n",
       "      <td>1</td>\n",
       "      <td>10</td>\n",
       "      <td>101</td>\n",
       "      <td>1000500</td>\n",
       "      <td>10005000003</td>\n",
       "      <td>5</td>\n",
       "      <td>1000</td>\n",
       "      <td>02</td>\n",
       "      <td>1</td>\n",
       "      <td>...</td>\n",
       "      <td>1</td>\n",
       "      <td>1</td>\n",
       "      <td>25v1.1</td>\n",
       "      <td>None</td>\n",
       "      <td>40.688774</td>\n",
       "      <td>-74.018704</td>\n",
       "      <td>None</td>\n",
       "      <td>0.0</td>\n",
       "      <td>7.414502e+06</td>\n",
       "      <td>POLYGON ((980898.728 191409.779, 980881.798 19...</td>\n",
       "    </tr>\n",
       "    <tr>\n",
       "      <th>1</th>\n",
       "      <td>MN</td>\n",
       "      <td>1</td>\n",
       "      <td>101</td>\n",
       "      <td>101</td>\n",
       "      <td>1000100</td>\n",
       "      <td>10001001001</td>\n",
       "      <td>1</td>\n",
       "      <td>1001</td>\n",
       "      <td>02</td>\n",
       "      <td>1</td>\n",
       "      <td>...</td>\n",
       "      <td>None</td>\n",
       "      <td>1</td>\n",
       "      <td>25v1.1</td>\n",
       "      <td>None</td>\n",
       "      <td>40.689920</td>\n",
       "      <td>-74.045337</td>\n",
       "      <td>None</td>\n",
       "      <td>0.0</td>\n",
       "      <td>5.018973e+05</td>\n",
       "      <td>MULTIPOLYGON (((972428.829 190679.175, 972443....</td>\n",
       "    </tr>\n",
       "    <tr>\n",
       "      <th>2</th>\n",
       "      <td>MN</td>\n",
       "      <td>1</td>\n",
       "      <td>201</td>\n",
       "      <td>101</td>\n",
       "      <td>1000100</td>\n",
       "      <td>10001001000</td>\n",
       "      <td>1</td>\n",
       "      <td>1000</td>\n",
       "      <td>02</td>\n",
       "      <td>1</td>\n",
       "      <td>...</td>\n",
       "      <td>None</td>\n",
       "      <td>1</td>\n",
       "      <td>25v1.1</td>\n",
       "      <td>None</td>\n",
       "      <td>40.698188</td>\n",
       "      <td>-74.041329</td>\n",
       "      <td>None</td>\n",
       "      <td>0.0</td>\n",
       "      <td>1.148539e+06</td>\n",
       "      <td>POLYGON ((973648.066 193711.894, 973525.342 19...</td>\n",
       "    </tr>\n",
       "    <tr>\n",
       "      <th>3</th>\n",
       "      <td>MN</td>\n",
       "      <td>2</td>\n",
       "      <td>1</td>\n",
       "      <td>101</td>\n",
       "      <td>1000900</td>\n",
       "      <td>10009001022</td>\n",
       "      <td>9</td>\n",
       "      <td>1025</td>\n",
       "      <td>02</td>\n",
       "      <td>1</td>\n",
       "      <td>...</td>\n",
       "      <td>1</td>\n",
       "      <td>1</td>\n",
       "      <td>25v1.1</td>\n",
       "      <td>t</td>\n",
       "      <td>40.700369</td>\n",
       "      <td>-74.012911</td>\n",
       "      <td>None</td>\n",
       "      <td>0.0</td>\n",
       "      <td>1.008250e+05</td>\n",
       "      <td>POLYGON ((980609.55 194220.422, 980608.726 194...</td>\n",
       "    </tr>\n",
       "    <tr>\n",
       "      <th>4</th>\n",
       "      <td>MN</td>\n",
       "      <td>2</td>\n",
       "      <td>2</td>\n",
       "      <td>101</td>\n",
       "      <td>1000900</td>\n",
       "      <td>10009001022</td>\n",
       "      <td>9</td>\n",
       "      <td>1025</td>\n",
       "      <td>02</td>\n",
       "      <td>1</td>\n",
       "      <td>...</td>\n",
       "      <td>1</td>\n",
       "      <td>1</td>\n",
       "      <td>25v1.1</td>\n",
       "      <td>None</td>\n",
       "      <td>40.700550</td>\n",
       "      <td>-74.011588</td>\n",
       "      <td>None</td>\n",
       "      <td>0.0</td>\n",
       "      <td>8.724419e+04</td>\n",
       "      <td>POLYGON ((980854.138 194531.437, 980823.199 19...</td>\n",
       "    </tr>\n",
       "  </tbody>\n",
       "</table>\n",
       "<p>5 rows × 95 columns</p>\n",
       "</div>"
      ],
      "text/plain": [
       "  Borough  Block  Lot   CD  BCT2020    BCTCB2020 CT2010 CB2010 SchoolDist  \\\n",
       "0      MN      1   10  101  1000500  10005000003      5   1000         02   \n",
       "1      MN      1  101  101  1000100  10001001001      1   1001         02   \n",
       "2      MN      1  201  101  1000100  10001001000      1   1000         02   \n",
       "3      MN      2    1  101  1000900  10009001022      9   1025         02   \n",
       "4      MN      2    2  101  1000900  10009001022      9   1025         02   \n",
       "\n",
       "   Council  ...  FIRM07_FLA PFIRM15_FL  Version  DCPEdited   Latitude  \\\n",
       "0        1  ...           1          1   25v1.1       None  40.688774   \n",
       "1        1  ...        None          1   25v1.1       None  40.689920   \n",
       "2        1  ...        None          1   25v1.1       None  40.698188   \n",
       "3        1  ...           1          1   25v1.1          t  40.700369   \n",
       "4        1  ...           1          1   25v1.1       None  40.700550   \n",
       "\n",
       "   Longitude Notes Shape_Leng    Shape_Area  \\\n",
       "0 -74.018704  None        0.0  7.414502e+06   \n",
       "1 -74.045337  None        0.0  5.018973e+05   \n",
       "2 -74.041329  None        0.0  1.148539e+06   \n",
       "3 -74.012911  None        0.0  1.008250e+05   \n",
       "4 -74.011588  None        0.0  8.724419e+04   \n",
       "\n",
       "                                            geometry  \n",
       "0  POLYGON ((980898.728 191409.779, 980881.798 19...  \n",
       "1  MULTIPOLYGON (((972428.829 190679.175, 972443....  \n",
       "2  POLYGON ((973648.066 193711.894, 973525.342 19...  \n",
       "3  POLYGON ((980609.55 194220.422, 980608.726 194...  \n",
       "4  POLYGON ((980854.138 194531.437, 980823.199 19...  \n",
       "\n",
       "[5 rows x 95 columns]"
      ]
     },
     "execution_count": 9,
     "metadata": {},
     "output_type": "execute_result"
    }
   ],
   "source": [
    "pluto.head()"
   ]
  },
  {
   "cell_type": "markdown",
   "metadata": {},
   "source": [
    "First, let's get a sense of what columns are available in the dataset."
   ]
  },
  {
   "cell_type": "code",
   "execution_count": 10,
   "metadata": {},
   "outputs": [
    {
     "data": {
      "text/plain": [
       "Index(['Borough', 'Block', 'Lot', 'CD', 'BCT2020', 'BCTCB2020', 'CT2010',\n",
       "       'CB2010', 'SchoolDist', 'Council', 'ZipCode', 'FireComp', 'PolicePrct',\n",
       "       'HealthCent', 'HealthArea', 'Sanitboro', 'SanitDistr', 'SanitSub',\n",
       "       'Address', 'ZoneDist1', 'ZoneDist2', 'ZoneDist3', 'ZoneDist4',\n",
       "       'Overlay1', 'Overlay2', 'SPDist1', 'SPDist2', 'SPDist3', 'LtdHeight',\n",
       "       'SplitZone', 'BldgClass', 'LandUse', 'Easements', 'OwnerType',\n",
       "       'OwnerName', 'LotArea', 'BldgArea', 'ComArea', 'ResArea', 'OfficeArea',\n",
       "       'RetailArea', 'GarageArea', 'StrgeArea', 'FactryArea', 'OtherArea',\n",
       "       'AreaSource', 'NumBldgs', 'NumFloors', 'UnitsRes', 'UnitsTotal',\n",
       "       'LotFront', 'LotDepth', 'BldgFront', 'BldgDepth', 'Ext', 'ProxCode',\n",
       "       'IrrLotCode', 'LotType', 'BsmtCode', 'AssessLand', 'AssessTot',\n",
       "       'ExemptTot', 'YearBuilt', 'YearAlter1', 'YearAlter2', 'HistDist',\n",
       "       'Landmark', 'BuiltFAR', 'ResidFAR', 'CommFAR', 'FacilFAR', 'BoroCode',\n",
       "       'BBL', 'CondoNo', 'Tract2010', 'XCoord', 'YCoord', 'ZoneMap', 'ZMCode',\n",
       "       'Sanborn', 'TaxMap', 'EDesigNum', 'APPBBL', 'APPDate', 'PLUTOMapID',\n",
       "       'FIRM07_FLA', 'PFIRM15_FL', 'Version', 'DCPEdited', 'Latitude',\n",
       "       'Longitude', 'Notes', 'Shape_Leng', 'Shape_Area', 'geometry'],\n",
       "      dtype='object')"
      ]
     },
     "execution_count": 10,
     "metadata": {},
     "output_type": "execute_result"
    }
   ],
   "source": [
    "pluto.columns"
   ]
  },
  {
   "cell_type": "markdown",
   "metadata": {},
   "source": [
    "We can also check the data types of each column- we can see there are a mix of numeric (int32, int64, float64) and string (O = object) data types, as well as some geometry data (geopandas.array.GeometryDtype)."
   ]
  },
  {
   "cell_type": "code",
   "execution_count": 11,
   "metadata": {},
   "outputs": [
    {
     "data": {
      "text/plain": [
       "[dtype('O'),\n",
       " dtype('int64'),\n",
       " dtype('int32'),\n",
       " dtype('int32'),\n",
       " dtype('O'),\n",
       " dtype('O'),\n",
       " dtype('O'),\n",
       " dtype('O'),\n",
       " dtype('O'),\n",
       " dtype('int32'),\n",
       " dtype('int64'),\n",
       " dtype('O'),\n",
       " dtype('int32'),\n",
       " dtype('int32'),\n",
       " dtype('int32'),\n",
       " dtype('O'),\n",
       " dtype('O'),\n",
       " dtype('O'),\n",
       " dtype('O'),\n",
       " dtype('O'),\n",
       " dtype('O'),\n",
       " dtype('O'),\n",
       " dtype('O'),\n",
       " dtype('O'),\n",
       " dtype('O'),\n",
       " dtype('O'),\n",
       " dtype('O'),\n",
       " dtype('O'),\n",
       " dtype('O'),\n",
       " dtype('O'),\n",
       " dtype('O'),\n",
       " dtype('O'),\n",
       " dtype('int32'),\n",
       " dtype('O'),\n",
       " dtype('O'),\n",
       " dtype('int64'),\n",
       " dtype('int64'),\n",
       " dtype('int64'),\n",
       " dtype('int64'),\n",
       " dtype('int64'),\n",
       " dtype('int64'),\n",
       " dtype('int64'),\n",
       " dtype('int64'),\n",
       " dtype('int64'),\n",
       " dtype('int64'),\n",
       " dtype('O'),\n",
       " dtype('int64'),\n",
       " dtype('float64'),\n",
       " dtype('int64'),\n",
       " dtype('int64'),\n",
       " dtype('float64'),\n",
       " dtype('float64'),\n",
       " dtype('float64'),\n",
       " dtype('float64'),\n",
       " dtype('O'),\n",
       " dtype('O'),\n",
       " dtype('O'),\n",
       " dtype('O'),\n",
       " dtype('O'),\n",
       " dtype('float64'),\n",
       " dtype('float64'),\n",
       " dtype('float64'),\n",
       " dtype('int32'),\n",
       " dtype('int32'),\n",
       " dtype('int32'),\n",
       " dtype('O'),\n",
       " dtype('O'),\n",
       " dtype('float64'),\n",
       " dtype('float64'),\n",
       " dtype('float64'),\n",
       " dtype('float64'),\n",
       " dtype('int64'),\n",
       " dtype('float64'),\n",
       " dtype('int64'),\n",
       " dtype('O'),\n",
       " dtype('int64'),\n",
       " dtype('int64'),\n",
       " dtype('O'),\n",
       " dtype('O'),\n",
       " dtype('O'),\n",
       " dtype('O'),\n",
       " dtype('O'),\n",
       " dtype('float64'),\n",
       " dtype('O'),\n",
       " dtype('O'),\n",
       " dtype('O'),\n",
       " dtype('O'),\n",
       " dtype('O'),\n",
       " dtype('O'),\n",
       " dtype('float64'),\n",
       " dtype('float64'),\n",
       " dtype('O'),\n",
       " dtype('float64'),\n",
       " dtype('float64'),\n",
       " <geopandas.array.GeometryDtype at 0x115ca5100>]"
      ]
     },
     "execution_count": 11,
     "metadata": {},
     "output_type": "execute_result"
    }
   ],
   "source": [
    "list(pluto.dtypes)"
   ]
  },
  {
   "cell_type": "markdown",
   "metadata": {},
   "source": [
    "## Exploring a categorical column\n"
   ]
  },
  {
   "cell_type": "code",
   "execution_count": 12,
   "metadata": {},
   "outputs": [
    {
     "data": {
      "text/plain": [
       "LandUse\n",
       "01    566504\n",
       "02    131336\n",
       "04     56138\n",
       "11     24464\n",
       "05     21207\n",
       "03     13021\n",
       "08     12045\n",
       "06      9385\n",
       "10      9277\n",
       "07      6036\n",
       "09      4740\n",
       "Name: count, dtype: int64"
      ]
     },
     "execution_count": 12,
     "metadata": {},
     "output_type": "execute_result"
    }
   ],
   "source": [
    "# a great way to get a sense of a field is to look at\n",
    "# the frequency of values in a categorical field.\n",
    "# here, we look at the LandUse field, which describes the\n",
    "# type of land use for each property in the dataset.\n",
    "pluto.LandUse.value_counts()"
   ]
  },
  {
   "cell_type": "markdown",
   "metadata": {},
   "source": [
    "🧐 What do those numbers mean? Let's look at the [data dictionary](https://s-media.nyc.gov/agencies/dcp/assets/files/pdf/data-tools/bytes/meta_mappluto.pdf)\n"
   ]
  },
  {
   "cell_type": "code",
   "execution_count": 13,
   "metadata": {},
   "outputs": [],
   "source": [
    "# now we can remap the numbers into something more meaningful\n",
    "\n",
    "land_use_codes = {\n",
    "    \"01\": \"One & Two Family Buildings\",\n",
    "    \"02\": \"Multi-Family Walk-Up Buildings\",\n",
    "    \"03\": \"Multi-Family Elevator Buildings\",\n",
    "    \"04\": \"Mixed Residential & Commercial Buildings\",\n",
    "    \"05\": \"Commercial & Office Buildings\",\n",
    "    \"06\": \"Industrial & Manufacturing\",\n",
    "    \"07\": \"Transportation & Utility\",\n",
    "    \"08\": \"Public Facilities & Institutions\",\n",
    "    \"09\": \"Open Space & Outdoor Recreation\",\n",
    "    \"10\": \"Parking Facilities\",\n",
    "    \"11\": \"Vacant Land\",\n",
    "}"
   ]
  },
  {
   "cell_type": "markdown",
   "metadata": {},
   "source": [
    "We can \"map\" the Land Use codes to more descriptive names. \n",
    "the `map()` function will replace instances of the \"key\" with the corresponding \"value\" in the dictionary."
   ]
  },
  {
   "cell_type": "code",
   "execution_count": 14,
   "metadata": {},
   "outputs": [],
   "source": [
    "pluto[\"LandUse\"] = pluto.LandUse.map(land_use_codes)"
   ]
  },
  {
   "cell_type": "code",
   "execution_count": 15,
   "metadata": {},
   "outputs": [
    {
     "data": {
      "text/plain": [
       "LandUse\n",
       "One & Two Family Buildings                  566504\n",
       "Multi-Family Walk-Up Buildings              131336\n",
       "Mixed Residential & Commercial Buildings     56138\n",
       "Vacant Land                                  24464\n",
       "Commercial & Office Buildings                21207\n",
       "Multi-Family Elevator Buildings              13021\n",
       "Public Facilities & Institutions             12045\n",
       "Industrial & Manufacturing                    9385\n",
       "Parking Facilities                            9277\n",
       "Transportation & Utility                      6036\n",
       "Open Space & Outdoor Recreation               4740\n",
       "Name: count, dtype: int64"
      ]
     },
     "execution_count": 15,
     "metadata": {},
     "output_type": "execute_result"
    }
   ],
   "source": [
    "# now when we perform operations on the LandUse field,\n",
    "# we can use the more meaningful names.\n",
    "# let's look at the frequency of values in the LandUse field again\n",
    "pluto.LandUse.value_counts()"
   ]
  },
  {
   "cell_type": "markdown",
   "metadata": {
    "vscode": {
     "languageId": "markdown"
    }
   },
   "source": [
    "⚠️ Caution! So far we have been counting the number of rows, but not saying anything about the area of each land use type. To do so, we can sum across rows of the same type. We can use the `groupby()` function to group the data by a categorical column type and then sum the values in another column (in this case, the lot area) the area for each type.\n"
   ]
  },
  {
   "cell_type": "markdown",
   "metadata": {},
   "source": [
    "## Grouping by a categorical column\n"
   ]
  },
  {
   "cell_type": "markdown",
   "metadata": {},
   "source": [
    "Here, we are _grouping_ the data by the `landuse` column and then _summing_ the values in the `lotarea` column for each group. The result is a new DataFrame that contains the total lot area for each land use type. We can sum or manipulate multiple columns at a time, and can chain together multiple operations as you can see below.\n"
   ]
  },
  {
   "cell_type": "code",
   "execution_count": 16,
   "metadata": {},
   "outputs": [
    {
     "data": {
      "text/plain": [
       "LandUse\n",
       "One & Two Family Buildings                  1828691192\n",
       "Open Space & Outdoor Recreation             1637319069\n",
       "Transportation & Utility                     641595331\n",
       "Vacant Land                                  536563618\n",
       "Public Facilities & Institutions             520642831\n",
       "Multi-Family Walk-Up Buildings               481826111\n",
       "Multi-Family Elevator Buildings              354474758\n",
       "Commercial & Office Buildings                275510919\n",
       "Mixed Residential & Commercial Buildings     268383490\n",
       "Industrial & Manufacturing                   224261013\n",
       "Parking Facilities                            83393001\n",
       "Name: LotArea, dtype: int64"
      ]
     },
     "execution_count": 16,
     "metadata": {},
     "output_type": "execute_result"
    }
   ],
   "source": [
    "pluto.groupby(\"LandUse\").LotArea.sum().sort_values(ascending=False)"
   ]
  },
  {
   "cell_type": "code",
   "execution_count": null,
   "metadata": {},
   "outputs": [],
   "source": [
    "# more complex grouping\n",
    "# We can also use the `agg()` function to apply multiple aggregation functions to different columns at once.\n",
    "# For example, we can calculate the total lot area and the average building area for each land use type:\n",
    "landuse_summary = (\n",
    "    pluto.groupby(\"LandUse\")\n",
    "    .agg({\"LotArea\": \"sum\", \"BldgArea\": \"mean\"})\n",
    "    .reset_index()\n",
    "    .rename(\n",
    "        columns={\"LotArea\": \"Total Lot Area\", \"BldgArea\": \"Average Building Area\"},\n",
    "    )\n",
    ")\n",
    "landuse_summary"
   ]
  },
  {
   "cell_type": "markdown",
   "metadata": {},
   "source": [
    "Now let's plot the total lot area for each land use type."
   ]
  },
  {
   "cell_type": "code",
   "execution_count": 17,
   "metadata": {},
   "outputs": [
    {
     "data": {
      "text/plain": [
       "Text(0.5, 1.0, 'Total lot area by land use type')"
      ]
     },
     "execution_count": 17,
     "metadata": {},
     "output_type": "execute_result"
    },
    {
     "data": {
      "image/png": "[encoded data removed]",
      "text/plain": [
       "<Figure size 640x480 with 1 Axes>"
      ]
     },
     "metadata": {},
     "output_type": "display_data"
    }
   ],
   "source": [
    "# there are many ways to visualize this data, and levels to refining the graphic style.\n",
    "# This is the simplest possible example, using matplotlib to create a bar chart\n",
    "pluto.groupby(\"LandUse\").LotArea.sum().sort_values(ascending=False).plot.bar()\n",
    "plt.title(\"Total lot area by land use type\")"
   ]
  },
  {
   "cell_type": "code",
   "execution_count": 18,
   "metadata": {},
   "outputs": [
    {
     "data": {
      "text/plain": [
       "Text(0.5, 1.0, 'Total building area by land use type')"
      ]
     },
     "execution_count": 18,
     "metadata": {},
     "output_type": "execute_result"
    },
    {
     "data": {
      "image/png": "[encoded data removed]",
      "text/plain": [
       "<Figure size 640x480 with 1 Axes>"
      ]
     },
     "metadata": {},
     "output_type": "display_data"
    }
   ],
   "source": [
    "# now the same but for building area - note this is total building area, not average\n",
    "pluto.groupby(\"LandUse\").BldgArea.sum().sort_values(ascending=False).plot.bar()\n",
    "plt.title(\"Total building area by land use type\")"
   ]
  },
  {
   "cell_type": "markdown",
   "metadata": {},
   "source": [
    "Below is a more complicated example where we can plot two variables against each other to compare.\n",
    "\n",
    "Note how we are manipulating a \"figure\" (`fig`) and \"axes\" (`ax`) object to create a more complex plot. This is a common pattern in data visualization libraries like Matplotlib and Seaborn, where you can create a figure and then add multiple axes to it, each with its own plot. You can see several invocations of `ax` where we set various properties. \n",
    "\n",
    "We also use two copies of our pluto dataset as inputs - note how each copy is aggregated over a different variable. "
   ]
  },
  {
   "cell_type": "code",
   "execution_count": 19,
   "metadata": {},
   "outputs": [
    {
     "data": {
      "text/plain": [
       "<matplotlib.legend.Legend at 0x33d671400>"
      ]
     },
     "execution_count": 19,
     "metadata": {},
     "output_type": "execute_result"
    },
    {
     "data": {
      "image/png": "[encoded data removed]",
      "text/plain": [
       "<Figure size 640x480 with 2 Axes>"
      ]
     },
     "metadata": {},
     "output_type": "display_data"
    }
   ],
   "source": [
    "# plot both lot and building area on the same plot with a secondary y-axis\n",
    "fig, ax = plt.subplots()\n",
    "by_lot_area = pluto.groupby(\"LandUse\").LotArea.sum().sort_values(ascending=False)\n",
    "\n",
    "by_lot_area.plot.bar(ax=ax, color=\"orange\")\n",
    "\n",
    "# get order to apply below\n",
    "order = {v: i for i, v in enumerate(by_lot_area.index)}\n",
    "\n",
    "ax.set_ylabel(\"Lot Area\")\n",
    "ax.set_xlabel(\"Land Use Type\")\n",
    "\n",
    "ax2 = ax.twinx()\n",
    "pluto.groupby(\"LandUse\").BldgArea.sum().reindex(by_lot_area.index).plot.bar(\n",
    "    ax=ax2, edgecolor=\"black\", color=\"none\"\n",
    ")\n",
    "ax2.set_ylabel(\"Building Area\")\n",
    "\n",
    "plt.title(\"Total lot and building area by land use type\")\n",
    "\n",
    "# add legends\n",
    "ax.legend([\"Lot Area\"], loc=\"upper left\")\n",
    "ax2.legend([\"Building Area\"], loc=\"upper right\")"
   ]
  },
  {
   "cell_type": "markdown",
   "metadata": {},
   "source": [
    "## numeric column\n"
   ]
  },
  {
   "cell_type": "markdown",
   "metadata": {},
   "source": [
    "We can use the `describe()` function to get a summary of the numeric columns in the dataset."
   ]
  },
  {
   "cell_type": "code",
   "execution_count": 20,
   "metadata": {},
   "outputs": [
    {
     "data": {
      "text/plain": [
       "count    856734.000000\n",
       "mean          2.362320\n",
       "std           2.053639\n",
       "min           0.000000\n",
       "25%           2.000000\n",
       "50%           2.000000\n",
       "75%           2.500000\n",
       "max         342.870000\n",
       "Name: NumFloors, dtype: float64"
      ]
     },
     "execution_count": 20,
     "metadata": {},
     "output_type": "execute_result"
    }
   ],
   "source": [
    "pluto[\"NumFloors\"].describe()"
   ]
  },
  {
   "cell_type": "code",
   "execution_count": 21,
   "metadata": {},
   "outputs": [
    {
     "data": {
      "image/png": "[encoded data removed]",
      "text/plain": [
       "<Figure size 1000x600 with 1 Axes>"
      ]
     },
     "metadata": {},
     "output_type": "display_data"
    }
   ],
   "source": [
    "# We can see that the average number of floors is 2.35, but the maximum is 104! and that the majority of buildings have 1-3 floors.\n",
    "# Let's visualize the distribution of the number of floors using a histogram\n",
    "plt.figure(figsize=(10, 6))\n",
    "pluto[\"NumFloors\"].hist(bins=30, edgecolor=\"black\")\n",
    "plt.title(\"Distribution of Number of Floors\")\n",
    "plt.xlabel(\"Number of Floors\")\n",
    "plt.ylabel(\"Frequency\")\n",
    "plt.xlim(0, 20)  # limit x-axis to 20 for better visibility\n",
    "plt.xticks(range(0, 21))  # set x-ticks to integers from 0 to 20\n",
    "plt.grid(axis=\"y\", linestyle=\"--\", alpha=0.7)\n",
    "plt.show()"
   ]
  },
  {
   "cell_type": "markdown",
   "metadata": {},
   "source": [
    "### Interactive plotting"
   ]
  },
  {
   "cell_type": "markdown",
   "metadata": {},
   "source": [
    "We can use the `pygwalker` library to create an interactive visualization of the data. Especially as we are becoming familiar with the dataset, this can be a useful way to explore the data and see how different variables relate to each other."
   ]
  },
  {
   "cell_type": "code",
   "execution_count": 22,
   "metadata": {},
   "outputs": [
    {
     "data": {
      "application/vnd.jupyter.widget-view+json": {
       "model_id": "0f44f3a24a9949cdb853b9f6b105cb91",
       "version_major": 2,
       "version_minor": 0
      },
      "text/plain": [
       "Box(children=(HTML(value='\\n<div id=\"ifr-pyg-0006390e490b93c6FUr8pciDVgdQJsuf\" style=\"height: auto\">\\n    <hea…"
      ]
     },
     "metadata": {},
     "output_type": "display_data"
    },
    {
     "data": {
      "text/html": [
       "<script>\n",
       "    window.addEventListener(\"message\", function(event) {\n",
       "        const backgroundMap = {\n",
       "            \"dark\": \"hsl(240 10% 3.9%)\",\n",
       "            \"light\": \"hsl(0 0 100%)\",\n",
       "        };\n",
       "        const colorMap = {\n",
       "            \"dark\": \"hsl(0 0% 98%)\",\n",
       "            \"light\": \"hsl(240 10% 3.9%)\",\n",
       "        };\n",
       "        if (event.data.action === \"changeAppearance\" && event.data.gid === \"0006390e490b93c6FUr8pciDVgdQJsuf\") {\n",
       "            var iframe = document.getElementById(\"gwalker-0006390e490b93c6FUr8pciDVgdQJsuf\");\n",
       "            iframe.style.background  = backgroundMap[event.data.appearance];\n",
       "            iframe.style.color = colorMap[event.data.appearance];\n",
       "        }\n",
       "    });\n",
       "</script>"
      ],
      "text/plain": [
       "<IPython.core.display.HTML object>"
      ]
     },
     "metadata": {},
     "output_type": "display_data"
    },
    {
     "data": {
      "text/html": [],
      "text/plain": [
       "<IPython.core.display.HTML object>"
      ]
     },
     "metadata": {},
     "output_type": "display_data"
    },
    {
     "data": {
      "text/plain": [
       "<pygwalker.api.pygwalker.PygWalker at 0x32bb23e00>"
      ]
     },
     "execution_count": 22,
     "metadata": {},
     "output_type": "execute_result"
    }
   ],
   "source": [
    "# pygwalker doesn't suppert geospatial data directly, so we need to drop the geometry column.\n",
    "# Be sure to keep a copy of the original data, we'll need it later!\n",
    "pluto_non_spatial = pluto.drop(columns=[\"geometry\"])\n",
    "\n",
    "# Invoke pygwalker, begin exploring the data interactively\n",
    "pyg.walk(pluto_non_spatial)"
   ]
  },
  {
   "cell_type": "code",
   "execution_count": null,
   "metadata": {},
   "outputs": [],
   "source": []
  },
  {
   "cell_type": "markdown",
   "metadata": {},
   "source": [
    "> ## Your turn:\n",
    "> - Take a few minutes to explore the dataset on your own.\n",
    "> - Try creating graphs that show the relationship between different variables.\n",
    "> - Let's discuss what you find or what you're exploring. "
   ]
  },
  {
   "cell_type": "markdown",
   "metadata": {},
   "source": [
    "# Mapping\n"
   ]
  },
  {
   "cell_type": "markdown",
   "metadata": {},
   "source": [
    "## Creating a static map\n"
   ]
  },
  {
   "cell_type": "code",
   "execution_count": null,
   "metadata": {},
   "outputs": [],
   "source": [
    "# In this example, we are using matplotlib to map our pluto data.\n",
    "# Under the hood, matplotlib is drawing each individual polygon (>800,000),\n",
    "# which is resource intensive and hard to discern on a map! This is a good\n",
    "# place to start, but we'll soon move on to more advanced mapping techniques.\n",
    "\n",
    "\n",
    "pluto.plot(figsize=(10, 10)).set_axis_off()\n",
    "plt.title(\"NYC MapPLUTO\")"
   ]
  },
  {
   "cell_type": "code",
   "execution_count": null,
   "metadata": {},
   "outputs": [],
   "source": [
    "pluto.plot(figsize=(10, 10)).set_axis_off()\n",
    "plt.title(\"NYC MapPLUTO\")"
   ]
  },
  {
   "cell_type": "code",
   "execution_count": 5,
   "metadata": {},
   "outputs": [],
   "source": [
    "cmap = {\n",
    "    \"One & Two Family Buildings\": \"#ffff00\",\n",
    "    \"Multi-Family Walk-Up Buildings\": \"#fffb00\",\n",
    "    \"Multi-Family Elevator Buildings\": \"#ffc800\",\n",
    "    \"Mixed Residential & Commercial Buildings\": \"#ff4000\",\n",
    "    \"Commercial & Office Buildings\": \"#ff0000\",\n",
    "    \"Industrial & Manufacturing\": \"#7700ff\",\n",
    "    \"Transportation & Utility\": \"#808080\",\n",
    "    \"Public Facilities & Institutions\": \"#001580\",\n",
    "    \"Open Space & Outdoor Recreation\": \"#219F21\",\n",
    "    \"Parking Facilities\": \"#A6A6AB\",\n",
    "    \"Vacant Land\": \"#222222\",\n",
    "    \"Unknown\": \"#000000\",\n",
    "}"
   ]
  },
  {
   "cell_type": "code",
   "execution_count": 6,
   "metadata": {},
   "outputs": [
    {
     "ename": "NameError",
     "evalue": "name 'pluto' is not defined",
     "output_type": "error",
     "traceback": [
      "\u001b[31m---------------------------------------------------------------------------\u001b[39m",
      "\u001b[31mNameError\u001b[39m                                 Traceback (most recent call last)",
      "\u001b[36mCell\u001b[39m\u001b[36m \u001b[39m\u001b[32mIn[6]\u001b[39m\u001b[32m, line 1\u001b[39m\n\u001b[32m----> \u001b[39m\u001b[32m1\u001b[39m \u001b[43mpluto\u001b[49m.fillna({\u001b[33m\"\u001b[39m\u001b[33mLandUse\u001b[39m\u001b[33m\"\u001b[39m: \u001b[33m\"\u001b[39m\u001b[33mUnknown\u001b[39m\u001b[33m\"\u001b[39m}, inplace=\u001b[38;5;28;01mTrue\u001b[39;00m)\n",
      "\u001b[31mNameError\u001b[39m: name 'pluto' is not defined"
     ]
    }
   ],
   "source": [
    "pluto.fillna({\"LandUse\": \"Unknown\"}, inplace=True)"
   ]
  },
  {
   "cell_type": "code",
   "execution_count": 4,
   "metadata": {},
   "outputs": [
    {
     "ename": "NameError",
     "evalue": "name 'pluto' is not defined",
     "output_type": "error",
     "traceback": [
      "\u001b[31m---------------------------------------------------------------------------\u001b[39m",
      "\u001b[31mNameError\u001b[39m                                 Traceback (most recent call last)",
      "\u001b[36mCell\u001b[39m\u001b[36m \u001b[39m\u001b[32mIn[4]\u001b[39m\u001b[32m, line 1\u001b[39m\n\u001b[32m----> \u001b[39m\u001b[32m1\u001b[39m \u001b[43mpluto\u001b[49m.LandUse.unique()\n",
      "\u001b[31mNameError\u001b[39m: name 'pluto' is not defined"
     ]
    }
   ],
   "source": [
    "pluto.LandUse.unique()"
   ]
  },
  {
   "cell_type": "code",
   "execution_count": null,
   "metadata": {},
   "outputs": [],
   "source": [
    "# here we make a new column called \"color\" that maps the LandUse values to colors\n",
    "pluto[\"color\"] = pluto[\"LandUse\"].map(cmap)"
   ]
  },
  {
   "cell_type": "code",
   "execution_count": null,
   "metadata": {},
   "outputs": [],
   "source": [
    "pluto[\"color\"].unique()"
   ]
  },
  {
   "cell_type": "code",
   "execution_count": null,
   "metadata": {},
   "outputs": [],
   "source": [
    "ax = pluto.plot(\n",
    "    color=pluto[\"color\"],\n",
    "    figsize=(10, 10),\n",
    "    legend=True,\n",
    ").set_axis_off()\n",
    "plt.title(\"NYC MapPLUTO\")\n",
    "\n",
    "\n",
    "# populate legend items based on dict from above\n",
    "legend_colors = [\n",
    "    Line2D([0], [0], marker=\"o\", color=\"w\", markerfacecolor=c, markersize=10)\n",
    "    for c in cmap.values()\n",
    "]\n",
    "labels = cmap.keys()\n",
    "plt.legend(legend_colors, labels, loc=\"upper left\")"
   ]
  },
  {
   "cell_type": "markdown",
   "metadata": {},
   "source": [
    "## Your turn:\n",
    "\n",
    "- map a numeric column using a continuous colormap for Queens. See here for a list and discussion of colormaps: https://matplotlib.org/stable/tutorials/colors/colormaps.html\n",
    "- What patterns emerge?\n"
   ]
  },
  {
   "cell_type": "code",
   "execution_count": null,
   "metadata": {},
   "outputs": [],
   "source": []
  },
  {
   "cell_type": "code",
   "execution_count": null,
   "metadata": {},
   "outputs": [],
   "source": [
    "pluto.LotArea.plot.hist(bins=100, log=True)"
   ]
  },
  {
   "cell_type": "markdown",
   "metadata": {},
   "source": [
    "# prep for interactive mapping\n"
   ]
  },
  {
   "cell_type": "code",
   "execution_count": 12,
   "metadata": {},
   "outputs": [],
   "source": [
    "pluto_wgs = pluto.to_crs(\"epsg:4326\")"
   ]
  },
  {
   "cell_type": "markdown",
   "metadata": {},
   "source": [
    "## visualize a categorical variable\n"
   ]
  },
  {
   "cell_type": "code",
   "execution_count": 13,
   "metadata": {},
   "outputs": [],
   "source": [
    "cmap_rgb = {k: list(int(v[i : i + 2], 16) for i in (1, 3, 5)) for k, v in cmap.items()}"
   ]
  },
  {
   "cell_type": "code",
   "execution_count": 14,
   "metadata": {},
   "outputs": [
    {
     "data": {
      "text/plain": [
       "{'One & Two Family Buildings': [255, 255, 0],\n",
       " 'Multi-Family Walk-Up Buildings': [255, 251, 0],\n",
       " 'Multi-Family Elevator Buildings': [255, 200, 0],\n",
       " 'Mixed Residential & Commercial Buildings': [255, 64, 0],\n",
       " 'Commercial & Office Buildings': [255, 0, 0],\n",
       " 'Industrial & Manufacturing': [119, 0, 255],\n",
       " 'Transportation & Utility': [128, 128, 128],\n",
       " 'Public Facilities & Institutions': [0, 21, 128],\n",
       " 'Open Space & Outdoor Recreation': [33, 159, 33],\n",
       " 'Parking Facilities': [166, 166, 171],\n",
       " 'Vacant Land': [34, 34, 34],\n",
       " 'Unknown': [0, 0, 0]}"
      ]
     },
     "execution_count": 14,
     "metadata": {},
     "output_type": "execute_result"
    }
   ],
   "source": [
    "cmap_rgb"
   ]
  },
  {
   "cell_type": "code",
   "execution_count": 15,
   "metadata": {},
   "outputs": [
    {
     "data": {
      "text/plain": [
       "2581"
      ]
     },
     "execution_count": 15,
     "metadata": {},
     "output_type": "execute_result"
    }
   ],
   "source": [
    "len(pluto_wgs[pluto_wgs[\"LandUse\"].isna()])"
   ]
  },
  {
   "cell_type": "code",
   "execution_count": 16,
   "metadata": {},
   "outputs": [],
   "source": [
    "pluto.fillna({\"LandUse\": \"Unknown\"}, inplace=True)"
   ]
  },
  {
   "cell_type": "markdown",
   "metadata": {},
   "source": [
    "## now, we can plot the data using lonboard to create an interactive map\n"
   ]
  },
  {
   "cell_type": "code",
   "execution_count": 18,
   "metadata": {},
   "outputs": [
    {
     "ename": "KeyError",
     "evalue": "'01'",
     "output_type": "error",
     "traceback": [
      "\u001b[31m---------------------------------------------------------------------------\u001b[39m",
      "\u001b[31mKeyError\u001b[39m                                  Traceback (most recent call last)",
      "\u001b[36mCell\u001b[39m\u001b[36m \u001b[39m\u001b[32mIn[18]\u001b[39m\u001b[32m, line 6\u001b[39m\n\u001b[32m      1\u001b[39m df = pluto_wgs[[\u001b[33m\"\u001b[39m\u001b[33mLandUse\u001b[39m\u001b[33m\"\u001b[39m, \u001b[33m\"\u001b[39m\u001b[33mgeometry\u001b[39m\u001b[33m\"\u001b[39m]].copy()\n\u001b[32m      2\u001b[39m df[\u001b[33m\"\u001b[39m\u001b[33mLandUse\u001b[39m\u001b[33m\"\u001b[39m] = df[\u001b[33m\"\u001b[39m\u001b[33mLandUse\u001b[39m\u001b[33m\"\u001b[39m].astype(\u001b[33m\"\u001b[39m\u001b[33mcategory\u001b[39m\u001b[33m\"\u001b[39m)\n\u001b[32m      4\u001b[39m layer = PolygonLayer.from_geopandas(\n\u001b[32m      5\u001b[39m     df[[\u001b[33m\"\u001b[39m\u001b[33mLandUse\u001b[39m\u001b[33m\"\u001b[39m, \u001b[33m\"\u001b[39m\u001b[33mgeometry\u001b[39m\u001b[33m\"\u001b[39m]],\n\u001b[32m----> \u001b[39m\u001b[32m6\u001b[39m     get_fill_color=\u001b[43mapply_categorical_cmap\u001b[49m\u001b[43m(\u001b[49m\n\u001b[32m      7\u001b[39m \u001b[43m        \u001b[49m\u001b[43mdf\u001b[49m\u001b[43m[\u001b[49m\u001b[33;43m\"\u001b[39;49m\u001b[33;43mLandUse\u001b[39;49m\u001b[33;43m\"\u001b[39;49m\u001b[43m]\u001b[49m\u001b[43m,\u001b[49m\n\u001b[32m      8\u001b[39m \u001b[43m        \u001b[49m\u001b[43mcmap\u001b[49m\u001b[43m=\u001b[49m\u001b[43mcmap_rgb\u001b[49m\u001b[43m,\u001b[49m\n\u001b[32m      9\u001b[39m \u001b[43m    \u001b[49m\u001b[43m)\u001b[49m,\n\u001b[32m     10\u001b[39m )\n\u001b[32m     11\u001b[39m m = Map(layer)\n\u001b[32m     12\u001b[39m m\n",
      "\u001b[36mFile \u001b[39m\u001b[32m/opt/miniconda3/envs/mapping/lib/python3.12/site-packages/lonboard/colormap.py:172\u001b[39m, in \u001b[36mapply_categorical_cmap\u001b[39m\u001b[34m(values, cmap, alpha)\u001b[39m\n\u001b[32m    169\u001b[39m     lut[:, \u001b[32m3\u001b[39m] = \u001b[32m255\u001b[39m\n\u001b[32m    171\u001b[39m \u001b[38;5;28;01mfor\u001b[39;00m i, key \u001b[38;5;129;01min\u001b[39;00m \u001b[38;5;28menumerate\u001b[39m(values.dictionary):\n\u001b[32m--> \u001b[39m\u001b[32m172\u001b[39m     color = \u001b[43mcmap\u001b[49m\u001b[43m[\u001b[49m\u001b[43mkey\u001b[49m\u001b[43m.\u001b[49m\u001b[43mas_py\u001b[49m\u001b[43m(\u001b[49m\u001b[43m)\u001b[49m\u001b[43m]\u001b[49m\n\u001b[32m    173\u001b[39m     \u001b[38;5;28;01mif\u001b[39;00m \u001b[38;5;28mlen\u001b[39m(color) == \u001b[32m3\u001b[39m:\n\u001b[32m    174\u001b[39m         lut[i, :\u001b[32m3\u001b[39m] = color\n",
      "\u001b[31mKeyError\u001b[39m: '01'"
     ]
    }
   ],
   "source": [
    "df = pluto_wgs[[\"LandUse\", \"geometry\"]].copy()\n",
    "df[\"LandUse\"] = df[\"LandUse\"].astype(\"category\")\n",
    "\n",
    "layer = PolygonLayer.from_geopandas(\n",
    "    df[[\"LandUse\", \"geometry\"]],\n",
    "    get_fill_color=apply_categorical_cmap(\n",
    "        df[\"LandUse\"],\n",
    "        cmap=cmap_rgb,\n",
    "    ),\n",
    ")\n",
    "m = Map(layer)\n",
    "m"
   ]
  },
  {
   "cell_type": "markdown",
   "metadata": {},
   "source": [
    "## visualize a continuous variable\n"
   ]
  },
  {
   "cell_type": "code",
   "execution_count": 19,
   "metadata": {},
   "outputs": [
    {
     "data": {
      "application/vnd.jupyter.widget-view+json": {
       "model_id": "59695b61e4bb421f8e6d6632a2f23186",
       "version_major": 2,
       "version_minor": 1
      },
      "text/plain": [
       "Map(layers=[PolygonLayer(get_fill_color=<pyarrow.lib.FixedSizeListArray object at 0x33eddad40>\n",
       "[\n",
       "  [\n",
       "    217,\n",
       "…"
      ]
     },
     "execution_count": 19,
     "metadata": {},
     "output_type": "execute_result"
    }
   ],
   "source": [
    "df = pluto_wgs[[\"NumFloors\", \"geometry\"]]\n",
    "\n",
    "normalizer = LogNorm(1, df.NumFloors.max(), clip=True)\n",
    "normalized_floors = normalizer(df.NumFloors)\n",
    "\n",
    "layer = PolygonLayer.from_geopandas(\n",
    "    df[[\"NumFloors\", \"geometry\"]],\n",
    "    get_fill_color=apply_continuous_cmap(normalized_floors, cmap=PuRd_9),\n",
    ")\n",
    "m = Map(layer)\n",
    "m"
   ]
  },
  {
   "cell_type": "code",
   "execution_count": 20,
   "metadata": {},
   "outputs": [
    {
     "data": {
      "application/vnd.jupyter.widget-view+json": {
       "model_id": "161b544f0a04444899ccdd245ce5338d",
       "version_major": 2,
       "version_minor": 1
      },
      "text/plain": [
       "Map(layers=[PolygonLayer(extruded=True, get_elevation=<pyarrow.lib.FloatArray object at 0x33eddb8e0>\n",
       "[\n",
       "  49,\n",
       " …"
      ]
     },
     "execution_count": 20,
     "metadata": {},
     "output_type": "execute_result"
    }
   ],
   "source": [
    "df = pluto_wgs[[\"NumFloors\", \"geometry\"]]\n",
    "\n",
    "normalizer = LogNorm(1, df.NumFloors.max(), clip=True)\n",
    "normalized_floors = normalizer(df.NumFloors)\n",
    "\n",
    "\n",
    "layer = PolygonLayer.from_geopandas(\n",
    "    df[[\"NumFloors\", \"geometry\"]],\n",
    "    get_fill_color=apply_continuous_cmap(normalized_floors, cmap=PuRd_9),\n",
    "    extruded=True,\n",
    "    get_elevation=pluto_wgs[\"NumFloors\"] * 14,\n",
    ")\n",
    "m = Map(\n",
    "    layer, view_state={\"longitude\": -73.97, \"latitude\": 40.73, \"zoom\": 10, \"pitch\": 45}\n",
    ")\n",
    "m"
   ]
  },
  {
   "cell_type": "code",
   "execution_count": 21,
   "metadata": {},
   "outputs": [
    {
     "data": {
      "application/vnd.jupyter.widget-view+json": {
       "model_id": "b657a0db07bd4f2d9fb8f2e3900fcc5b",
       "version_major": 2,
       "version_minor": 1
      },
      "text/plain": [
       "Map(layers=[PolygonLayer(extruded=True, get_elevation=<pyarrow.lib.FloatArray object at 0x33eddbd60>\n",
       "[\n",
       "  378,\n",
       "…"
      ]
     },
     "execution_count": 21,
     "metadata": {},
     "output_type": "execute_result"
    }
   ],
   "source": [
    "df = pluto_wgs[pluto_wgs.YearBuilt > 2010][[\"NumFloors\", \"geometry\"]].copy()\n",
    "\n",
    "normalizer = LogNorm(1, df.NumFloors.max(), clip=True)\n",
    "normalized_floors = normalizer(df.NumFloors)\n",
    "\n",
    "layer = PolygonLayer.from_geopandas(\n",
    "    df[[\"NumFloors\", \"geometry\"]],\n",
    "    get_fill_color=apply_continuous_cmap(normalized_floors, cmap=PuRd_9),\n",
    "    extruded=True,\n",
    "    get_elevation=df[\"NumFloors\"] * 14,\n",
    ")\n",
    "m = Map(layer)\n",
    "m"
   ]
  },
  {
   "cell_type": "code",
   "execution_count": 22,
   "metadata": {},
   "outputs": [
    {
     "data": {
      "text/plain": [
       "253"
      ]
     },
     "execution_count": 22,
     "metadata": {},
     "output_type": "execute_result"
    }
   ],
   "source": [
    "pluto_wgs.YearBuilt.nunique()"
   ]
  },
  {
   "cell_type": "code",
   "execution_count": 23,
   "metadata": {},
   "outputs": [],
   "source": [
    "def categorize_buildings(r):\n",
    "    if r.YearBuilt < 1900:\n",
    "        return \"Pre-1900\"\n",
    "    elif r.YearBuilt < 1950:\n",
    "        return \"1900-1950\"\n",
    "    elif r.YearBuilt < 2000:\n",
    "        return \"1950-2000\"\n",
    "    else:\n",
    "        return \"Post-2000\""
   ]
  },
  {
   "cell_type": "code",
   "execution_count": 24,
   "metadata": {},
   "outputs": [],
   "source": [
    "pluto_wgs[\"year_category\"] = pluto_wgs.apply(categorize_buildings, axis=1)"
   ]
  },
  {
   "cell_type": "code",
   "execution_count": 25,
   "metadata": {},
   "outputs": [
    {
     "data": {
      "text/plain": [
       "year_category\n",
       "1900-1950    481841\n",
       "1950-2000    231024\n",
       "Pre-1900      78682\n",
       "Post-2000     65187\n",
       "Name: count, dtype: int64"
      ]
     },
     "execution_count": 25,
     "metadata": {},
     "output_type": "execute_result"
    }
   ],
   "source": [
    "pluto_wgs.year_category.value_counts()"
   ]
  },
  {
   "cell_type": "code",
   "execution_count": 26,
   "metadata": {},
   "outputs": [],
   "source": [
    "year_built_ma = {\n",
    "    \"Pre-1900\": \"[255,0,0]\",\n",
    "    \"1900-1950\": \"#00ff00\",\n",
    "    \"1950-2000\": \"#0000ff\",\n",
    "    \"Post-2000\": \"#ff00ff\",\n",
    "}"
   ]
  },
  {
   "cell_type": "code",
   "execution_count": 27,
   "metadata": {},
   "outputs": [
    {
     "ename": "KeyError",
     "evalue": "'1900-1950'",
     "output_type": "error",
     "traceback": [
      "\u001b[31m---------------------------------------------------------------------------\u001b[39m",
      "\u001b[31mKeyError\u001b[39m                                  Traceback (most recent call last)",
      "\u001b[36mCell\u001b[39m\u001b[36m \u001b[39m\u001b[32mIn[27]\u001b[39m\u001b[32m, line 5\u001b[39m\n\u001b[32m      1\u001b[39m df = pluto_wgs[[\u001b[33m\"\u001b[39m\u001b[33myear_category\u001b[39m\u001b[33m\"\u001b[39m, \u001b[33m\"\u001b[39m\u001b[33mgeometry\u001b[39m\u001b[33m\"\u001b[39m]]\n\u001b[32m      3\u001b[39m layer = PolygonLayer.from_geopandas(\n\u001b[32m      4\u001b[39m     df[[\u001b[33m\"\u001b[39m\u001b[33myear_category\u001b[39m\u001b[33m\"\u001b[39m, \u001b[33m\"\u001b[39m\u001b[33mgeometry\u001b[39m\u001b[33m\"\u001b[39m]],\n\u001b[32m----> \u001b[39m\u001b[32m5\u001b[39m     get_fill_color=\u001b[43mapply_categorical_cmap\u001b[49m\u001b[43m(\u001b[49m\u001b[43mdf\u001b[49m\u001b[43m[\u001b[49m\u001b[33;43m\"\u001b[39;49m\u001b[33;43myear_category\u001b[39;49m\u001b[33;43m\"\u001b[39;49m\u001b[43m]\u001b[49m\u001b[43m,\u001b[49m\u001b[43m \u001b[49m\u001b[43mcmap\u001b[49m\u001b[43m=\u001b[49m\u001b[43mcmap_rgb\u001b[49m\u001b[43m)\u001b[49m,\n\u001b[32m      6\u001b[39m )\n\u001b[32m      7\u001b[39m m = Map(layer)\n\u001b[32m      8\u001b[39m m\n",
      "\u001b[36mFile \u001b[39m\u001b[32m/opt/miniconda3/envs/mapping/lib/python3.12/site-packages/lonboard/colormap.py:172\u001b[39m, in \u001b[36mapply_categorical_cmap\u001b[39m\u001b[34m(values, cmap, alpha)\u001b[39m\n\u001b[32m    169\u001b[39m     lut[:, \u001b[32m3\u001b[39m] = \u001b[32m255\u001b[39m\n\u001b[32m    171\u001b[39m \u001b[38;5;28;01mfor\u001b[39;00m i, key \u001b[38;5;129;01min\u001b[39;00m \u001b[38;5;28menumerate\u001b[39m(values.dictionary):\n\u001b[32m--> \u001b[39m\u001b[32m172\u001b[39m     color = \u001b[43mcmap\u001b[49m\u001b[43m[\u001b[49m\u001b[43mkey\u001b[49m\u001b[43m.\u001b[49m\u001b[43mas_py\u001b[49m\u001b[43m(\u001b[49m\u001b[43m)\u001b[49m\u001b[43m]\u001b[49m\n\u001b[32m    173\u001b[39m     \u001b[38;5;28;01mif\u001b[39;00m \u001b[38;5;28mlen\u001b[39m(color) == \u001b[32m3\u001b[39m:\n\u001b[32m    174\u001b[39m         lut[i, :\u001b[32m3\u001b[39m] = color\n",
      "\u001b[31mKeyError\u001b[39m: '1900-1950'"
     ]
    }
   ],
   "source": [
    "df = pluto_wgs[[\"year_category\", \"geometry\"]]\n",
    "\n",
    "layer = PolygonLayer.from_geopandas(\n",
    "    df[[\"year_category\", \"geometry\"]],\n",
    "    get_fill_color=apply_categorical_cmap(df[\"year_category\"], cmap=cmap_rgb),\n",
    ")\n",
    "m = Map(layer)\n",
    "m"
   ]
  },
  {
   "cell_type": "markdown",
   "metadata": {},
   "source": [
    "To read more about `lonboard` and mapping in 3d, see here for some tips: https://developmentseed.org/lonboard/latest/examples/overture-maps/#imports"
   ]
  }
 ],
 "metadata": {
  "kernelspec": {
   "display_name": "mapping",
   "language": "python",
   "name": "python3"
  },
  "language_info": {
   "codemirror_mode": {
    "name": "ipython",
    "version": 3
   },
   "file_extension": ".py",
   "mimetype": "text/x-python",
   "name": "python",
   "nbconvert_exporter": "python",
   "pygments_lexer": "ipython3",
   "version": "3.12.11"
  }
 },
 "nbformat": 4,
 "nbformat_minor": 2
}
